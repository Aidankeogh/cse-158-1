{
 "cells": [
  {
   "cell_type": "code",
   "execution_count": 2,
   "metadata": {
    "collapsed": true
   },
   "outputs": [],
   "source": [
    "import gzip\n",
    "from collections import defaultdict\n",
    "\n",
    "def readGz(f):\n",
    "  for l in gzip.open(f):\n",
    "    yield eval(l)"
   ]
  },
  {
   "cell_type": "code",
   "execution_count": 38,
   "metadata": {},
   "outputs": [
    {
     "name": "stdout",
     "output_type": "stream",
     "text": [
      "{'category': 0, 'rating': 4.0, 'reviewHash': 'R567271252', 'businessID': 'B423621081', 'unixReviewTime': 1378865039, 'reviewText': u\"I'm a vegetarian, but every so often I want a hotdog with lots of toppings.  And a tall can of beer.  Frank has got that covered.  And they have a cool warehouse space with some pinball machines.  Prices are a little high for hotdogs...fancy hotdogs, but hotdogs nonetheless.  Good location and service, but gets crowded and loud.\", 'userID': 'U985379327', 'reviewTime': u'Sep 10, 2013', 'categories': [u'American Restaurant', u'Cafe', u'Hot Dog Restaurant'], 'categoryID': 0}\n",
      "70195\n"
     ]
    }
   ],
   "source": [
    "import numpy as np\n",
    "catDict = {\n",
    "  \"American Restaurant\": 0,\n",
    "  \"Bar\": 1,\n",
    "  \"Asian Restaurant\": 2,\n",
    "  \"European Restaurant\": 3,\n",
    "  \"Italian Restaurant\": 4,\n",
    "  \"Fast Food Restaurant\": 5,\n",
    "  \"Mexican Restaurant\": 6,\n",
    "  \"Seafood Restaurant\": 7,\n",
    "  \"Coffee Shop\": 8,\n",
    "  \"Sandwich Shop\": 9\n",
    "}\n",
    "reviews = []\n",
    "for l in readGz(\"train.json.gz\"):\n",
    "    l[\"category\"] = np.array([0] * 10)\n",
    "    for k,v in catDict.iteritems():\n",
    "        if k in l[\"categories\"]:\n",
    "            l[\"category\"][v] = 1\n",
    "            \n",
    "    if sum(l[\"category\"]) == 1:\n",
    "        l[\"category\"] = np.argmax(l[\"category\"])\n",
    "        reviews.append(l)\n",
    "print reviews[0]\n",
    "print len(reviews)"
   ]
  },
  {
   "cell_type": "code",
   "execution_count": 39,
   "metadata": {
    "collapsed": true
   },
   "outputs": [],
   "source": [
    "from nltk.stem import SnowballStemmer\n",
    "stemmer = SnowballStemmer(\"english\")"
   ]
  },
  {
   "cell_type": "code",
   "execution_count": 44,
   "metadata": {
    "collapsed": true
   },
   "outputs": [],
   "source": [
    "from nltk.tokenize import TweetTokenizer\n",
    "tokenizer = TweetTokenizer()"
   ]
  },
  {
   "cell_type": "code",
   "execution_count": null,
   "metadata": {
    "collapsed": true
   },
   "outputs": [],
   "source": []
  },
  {
   "cell_type": "code",
   "execution_count": 41,
   "metadata": {},
   "outputs": [
    {
     "name": "stdout",
     "output_type": "stream",
     "text": [
      "0.142460289194\n",
      "0.284920578389\n",
      "0.427380867583\n",
      "0.569841156778\n",
      "0.712301445972\n",
      "0.854761735166\n",
      "0.997222024361\n"
     ]
    }
   ],
   "source": [
    "all_words = []\n",
    "review_hash = {}\n",
    "i = 0\n",
    "for r in reviews:\n",
    "    i = i + 1\n",
    "    if i%10000 == 0:\n",
    "        print i/float(len(reviews))\n",
    "    curr_words = []\n",
    "    for word in tokenizer.tokenize(r[\"reviewText\"]):\n",
    "        s = stemmer.stem(word)\n",
    "        all_words.append(s)\n",
    "        curr_words.append(s)\n",
    "    review_hash[r[\"reviewHash\"]] = (curr_words,r[\"category\"])\n",
    "    "
   ]
  },
  {
   "cell_type": "code",
   "execution_count": 45,
   "metadata": {},
   "outputs": [
    {
     "name": "stdout",
     "output_type": "stream",
     "text": [
      "[u'.', u'the', u',', u'and', u'a', u'to', u'is', u'i', u'it', u'of', u'for', u'in', u'was', u'food', u'!', u'but', u'you', u'good', u'great', u'place', u'with', u'this', u'are', u'that', u'on', u'they', u'have', u'not', u'my', u'be', u'veri', u'here', u'get', u'go', u'at', u'servic', u'as', u'so', u'had', u'there', u'their', u'if', u'like', u'we', u')', u'(', u'best', u'-', u'one', u'love', u'were', u'realli', u'time', u'all', u'out', u'friend', u'or', u'can', u'just', u'drink', u'restaur', u'\"', u'bar', u'nice', u'tri', u'your', u'from', u'an', u'some', u'delici', u'order', u'too', u'also', u'alway', u'price', u'beer', u'menu', u'when', u'make', u'back', u'come', u'...', u'wait', u'up', u'more', u'which', u'has', u'amaz', u'pretti', u'coffe', u'well', u'littl', u'what', u'would', u'about', u'me', u'atmospher', u\"don't\", u'will', u\"i'v\", u'onli', u'been', u'excel', u'by', u'dish', u'favorit', u'eat', u'even', u'other', u'night', u'fri', u'staff', u'than', u'chicken', u'tabl', u'burger', u'bit', u'definit', u'want', u'tast', u'our', u'better', u'worth', u':', u'select', u'?', u'peopl', u'do', u'$', u'recommend', u'locat', u'hour', u'lunch', u'much', u'no', u'spot', u'though', u'fresh', u'awesom', u'enjoy', u'fun', u'seat', u'special', u'look', u'becaus', u'/', u'lot', u'dinner', u'meal', u'area', u\"you'r\", u'crowd', u'tasti', u'take', u'perfect', u'experi', u'after', u'most', u'small', u'serv', u'brunch', u\"i'm\", u'flavor', u'taco', u'happi', u'decor', u'feel', u'sandwich', u'chees', u'over', u'thing', u'still', u'day', u'way', u'everyth', u'never', u'went', u'got', u'them', u'think', u'high', u'long', u'while', u'ever', u'sushi', u'know', u'side', u'decent', u'wine', u'sure', u'&', u'first', u'right', u'everi', u'new', u'sauc', u'down', u'breakfast', u'us', u'salad', u'around', u'few', u'top', u'find', u'pizza', u'reason', u'portion', u'made', u\"can't\", u'mani', u'could', u'big', u'ani', u'say', u'qualiti', u'option', u'came', u'mexican', u'citi', u'two', u'expect', u'bad', u'visit', u'work', u'busi', u'quick', u'thai', u'sit', u'how', u'line', u'off', u'seem', u'who', u'music', u'open', u'cocktail', u';', u'then', u'soup', u'fish', u'usual', u'pork', u'live', u\"didn't\", u'hot', u'need', u'super', u'dine', u'befor', u'larg', u'quit', u'roll', u'someth', u'again', u'cheap', u'expens', u'wonder', u'spici', u'dessert', u'cool', u'noth', u'see', u'fantast', u\"'\", u'local', u'where', u'park', u'space', u'enough', u'use', u'differ', u'both', u'especi', u'dure', u'give', u'room', u'offer', u'meat', u'outsid', u'town', u'group', u'steak', u'sinc', u'huge', u'sweet', u'cook', u'ask', u'disappoint', u'plate', u'noodl', u'into', u'must', u'did', u'austin', u'egg', u'rice', u'onc', u'fast', u'probabl', u'ok', u'appet', u'year', u'server', u'reserv', u'bread', u'now', u'check', u'walk', u'date', u'stop', u'choic', u'am', u'howev', u'watch', u\"wasn't\", u'pricey', u'weekend', u'kind', u'old', u'insid', u'view', u'next', u'game', u'neighborhood', u'patio', u'beef', u'street', u'overal', u'free', u'authent', u'bring', u'actual', u'hard', u'2', u'should', u'prepar', u'full', u'list', u'attent', u'5', u'interest', u'end', u'style', u'margarita', u'home', u'minut', u'burrito', u\"i'd\", u'parti', u'star', u'3', u'shop', u'close', u'everyon', u'hous', u'surpris', u'chines', u'person', u'uniqu', u'anoth', u'varieti', u'bartend', u'famili', u'fill', u'item', u'els', u'last', u'pack', u'seafood', u'late', u'away', u\"you'll\", u'tea', u'keep', u'anyth', u\"isn't\", u'those', u'outdoor', u'ice', u'show', u'ramen', u'help', u'he', u'grill', u'week', u'far', u'chip', u'start', u'waiter', u'cream', u'cours', u'indian', u'without', u'averag', u'each', u'same', u'potato', u'impress', u'miss', u'chocol', u'sometim', u'earli', u'light', u'\\u2019', u'comfort', u'bowl', u'loud', u'set', u'play', u'absolut', u'own', u'may', u'shrimp', u'solid', u'grab', u'fan', u'dumpl', u'part', u'these', u'although', u'sunday', u'salsa', u'french', u'okay', u'almost', u'often', u'pay', u'ambianc', u'such', u'chicago', u'mix', u'curri', u'..', u'vegetarian', u\"doesn't\", u'whi', u'review', u'beauti', u'cake', u'size', u'includ', u'said', u'she', u'might', u's', u'ingredi', u'real', u'incred', u'wrong', u'consist', u'fine', u'slow', u'share', u'took', u'chang', u'pancak', u'hand', u'chef', u'hang', u'doe', u'door', u'crab', u'deal', u'4', u\"won't\", u'found', u'vibe', u'least', u'entre', u'bean', u'call', u'put', u'coupl', u'cafe', u\"they'r\", u'mayb', u'bacon', u'10', u'plenti', u'bite', u'name', u'less', u'fair', u'let', u'overpr', u'yummi', u'warm', u'near', u'main', u'diner', u'leav', u'veggi', u'thought', u':)', u'yet', u'regular', u'season', u'wall', u'plus', u'water', u'*', u'green', u'hit', u'classic', u'duck', u'waitress', u'kid', u'meet', u'standard', u\"i'll\", u'whole', u'cold', u'wish', u'half', u'cozi', u'valu', u'custom', u'bbq', u'pie', u'downtown', u'oyster', u'typic', u'either', u'care', u'done', u'joint', u'relax', u'front', u'nyc', u'kitchen', u'lobster', u'clean', u'red', u'1', u'except', u'tap', u'oh', u'extrem', u'through', u'cuisin', u'three', u'casual', u'italian', u'point', u'american', u'mean', u'san', u'sever', u'glass', u'summer', u'treat', u'total', u'+', u'toast', u'event', u'japanes', u'return', u'popular', u'type', u'venu', u'cup', u'wing', u'pleasant', u'world', u'run', u'tradit', u'stand', u'guy', u'easi', u'rib', u'saturday', u'chain', u'floor', u'dim', u'pho', u'move', u'arriv', u'dog', u'yes', u'second', u'choos', u'cute', u'simpl', u'extra', u'roast', u'left', u'die', u'stay', u'her', u'outstand', u'birthday', u'decid', u'strong', u'mac', u'crispi', u'head', u'prefer', u'asian', u'mind', u'creativ', u'spice', u'owner', u'danc', u'add', u'amount', u'someon', u'pick', u'salmon', u'serious', u'fare', u'money', u'bottl', u'fanci', u'general', u'onion', u'combin', u'dark', u'rather', u'bun', u'slight', u'beat', u'felt', u'his', u'month', u'la', u'origin', u'yourself', u'butter', u'garlic', u'wife', u'buffet', u'vegan', u'particular', u'manag', u'stuff', u'recent', u'rememb', u'present', u'talk', u'until', u'trip', u'avail', u\"wouldn't\", u'york', u'20', u'white', u'morn', u'tell', u'limit', u'sf', u'suggest', u'corn', u'scene', u'abl', u'pleas', u'instead', u'south', u'brew', u'ate', u'hungri', u'mediocr', u'ton', u'level', u'certain', u'short', u'lamb', u'east', u'along', u\"haven't\", u'pub', u'sum', u'pad', u'modern', u'bland', u'satisfi', u'between', u'lack', u'eaten', u'upstair', u'pasta', u'across', u'piec', u'portland', u'dri', u'chill', u'black', u'friday', u'basic', u'afford', u'environ', u'fact', u'rock', u'itself', u'noisi', u'slice', u'waffl', u'sausag', u'terribl', u'final', u'gem', u'thank', u'interior', u'broth', u'tender', u'counter', u'pastri', u\"aren't\", u'avoid', u'yum', u'crazi', u'upscal', u'tourist', u'tortilla', u'consid', u'sport', u'dip', u'sound', u'rate', u'cash', u'occas', u'guacamol', u'tip', u'turn', u'greasi', u'anyon', u'rest', u'francisco', u'forget', u'complet', u'etc', u'tini', u'compar', u'club', u'chili', u'addit', u'hope', u'band', u'blue', u'cover', u'pair', u'6', u'gave', u'window', u'knowledg', u'finish', u'mushroom', u'spend', u'later', u'quiet', u'myself', u'crave', u'simpli', u'cost', u'tomato', u'cheesecak', u'heard', u'15', u'believ', u\"couldn't\", u'abov', u'otherwis', u'seen', u'brought', u'sat', u'bay', u'entir', u'given', u'normal', u'tuna', u'read', u'squar', u'north', u'smoke', u'welcom', u'wow', u'bake', u'problem', u'twice', u'happen', u'donut', u'low', u'rush', u'life', u'plan', u'conveni', u'vietnames', u'known', u'under', u'dive', u'catch', u'veget', u'wrap', u'truli', u'salt', u'convers', u'base', u'anywher', u'ago', u'unfortun', u'30', u'loung', u'told', u'togeth', u'pepper', u'book', u'starbuck', u'romant', u'snack', u'deliv', u'guess', u'soon', u'build', u'espresso', u'dollar', u'salti', u'pickl', u'tapa', u'afternoon', u'easili', u'past', u'intim', u'hipster', u'corner', u'provid', u'honest', u'poor', u'movi', u'rich', u'charg', u'cut', u'readi', u'delight', u'crust', u'fix', u'gone', u'chop', u'despit', u'establish', u'hotel', u'bathroom', u'shake', u'hear', u'ad', u'true', u'west', u'four', u'unless', u'healthi', u'latt', u'sort', u'heart', u'exact', u'wifi', u'store', u'pull', u'generous', u'dress', u'mari', u'hidden', u'de', u'homemad', u'shot', u'girl', u'superb', u'accommod', u'belli', u'rare', u'bloodi', u'market', u'goe', u'soft', u'n', u't', u'buy', u'clear', u'bagel', u'mouth', u'fabul', u'school', u'idea', u'block', u'craft', u'peanut', u'avocado', u'garden', u'man', u'hip', u'nearbi', u'pass', u'downstair', u'art', u'w', u'possibl', u'notch', u'deliveri', u'hype', u'job', u'milk', u'excit', u'stuf', u'touch', u'stick', u'tend', u'mention', u'ambienc', u'number', u'weird', u'middl', u'wide', u'villag', u'note', u'five', u'rude', u'biscuit', u'southern', u'celebr', u'rang', u'nacho', u'8', u'pot', u'heaven', u\"weren't\", u'juici', u'spring', u'glad', u'buck', u'singl', u'pool', u'heavi', u'charm', u'becom', u'bill', u\"you'v\", u'specialti', u'terrif', u'saw', u\"they'v\", u'alreadi', u'featur', u'deep', u'word', u'frequent', u'split', u'tofu', u'somewhat', u'mood', u'tuesday', u\"you'd\", u'7', u'ball', u'desert', u'save', u'cooki', u'chanc', u'kick', u'famous', u'drive', u'complaint', u'whatev', u'enchilada', u'manhattan', u'per', u'depend', u'truffl', u'st', u'weather', u'chinatown', u'matter', u'combo', u'countri', u'appl', u'colleg', u'perhap', u'sour', u'skip', u'understand', u'sad', u'daili', u'clam', u'cramp', u'due', u'ridicul', u'martini', u'remind', u'smell', u'thin', u'behind', u'theme', u'booth', u'smaller', u'greek', u'card', u'mission', u'trendi', u'notic', u'ny', u'spectacular', u'monday', u'host', u'orang', u'deli', u'dont', u'queso', u'kinda', u'organ', u'patron', u'empti', u'entertain', u'appreci', u'reliabl', u'imagin', u'sampl', u'juic', u'\\u201c', u'\\u201d', u'melt', u'thick', u'eye', u'inexpens', u'sign', u'opinion', u'guest', u'beach', u'hole', u'frozen', u'prompt', u'chair', u'irish', u'liter', u'whiskey', u'sea', u'stapl', u'oil', u'write', u'extens', u'chowder', u'profession', u'barista', u'sangria', u'husband', u'center', u'step', u'brown', u'horribl', u'go-to', u'ahead', u'worst', u'savori', u'fusion', u'classi', u'speak', u'benedict', u'folk', u'relat', u'12', u'fruit', u'pm', u'spinach', u'ginger', u'laid', u'mussel', u'bunch', u'hate', u'secret', u'creami', u'alon', u'scallop', u'similar', u'alcohol', u'face', u'pour', u'phenomen', u'hill', u'privat', u'texa', u'brooklyn', u'|', u'textur', u'elsewher', u'suppos', u'goat', u'studi', u'byob', u'sprout', u'box', u'allow', u'lemon', u'within', u'match', u'medium', u'german', u\"we'v\", u'meatbal', u'effici', u'multipl', u'knew', u'tex-mex', u'giant', u'mango', u'spacious', u'50', u'tv', u'ladi', u'weekday', u'larger', u'app', u'coconut', u'student', u'honey', u'version', u'%', u'lover', u'drop', u'cannot', u'pop', u'dirti', u'attract', u'case', u'difficult', u'invent', u'eleg', u'break', u'steam', u'overr', u'longer', u'key', u'heat', u'design', u'young', u'korean', u'lucki', u'tequila', u'issu', u'none', u'describ', u'refil', u'somewher', u'anyway', u'pud', u'kept', u'prime', u'memor', u'meh', u'rooftop', u'board', u'draft', u'class', u'seattl', u'doubl', u'compani', u'round', u'hangout', u'~', u'winter', u'fire', u'him', u'state', u'jazz', u'waitstaff', u'bakeri', u'among', u'hold', u'soda', u'calamari', u'beyond', u'el', u'warn', u'complain', u'rave', u'hash', u'sake', u'follow', u'fajita', u'banana', u'min', u'turkey', u'odd', u'tough', u'gravi', u'overwhelm', u'district', u'downsid', u'thursday', u'boy', u'question', u'bigger', u'invit', u'continu', u'vari', u'slider', u'strip', u'twist', u'forward', u'whether', u'smile', u'chat', u'balanc', u'mine', u'fit', u'sashimi', u'nois', u'california', u'theater', u'import', u'mimosa', u'upon', u'naan', u'rotat', u'gotten', u'mash', u'lettuc', u'boston', u'babi', u'fall', u'attitud', u'refresh', u'chipotl', u'annoy', u'brisket', u'strawberri', u'alright', u'highlight', u'hamburg', u'girlfriend', u'miso', u'brussel', u'9', u'request', u'gluten', u'sugar', u'aw', u'bag', u'wednesday', u'higher', u'stage', u'cheaper', u'gourmet', u'strang', u'river', u'bare', u'oliv', u'delish', u'bone', u'suck', u'jam', u'crisp', u'cart', u'adventur', u'fat', u'pumpkin', u'concert', u'doughnut', u'lime', u'steakhous', u'b', u'apart', u'whenev', u'platter', u'hostess', u'obvious', u'ceil', u'desir', u'ground', u'tvs', u'caramel', u'island', u'wood', u'sell', u'guac', u'pretenti', u'jalapeno', u'equal', u'bright', u'forev', u'24', u'phone', u'taken', u'immedi', u'win', u'execut', u'altern', u'improv', u'al', u'=', u'100', u'boyfriend', u'regret', u'polit', u'don', u'pretzel', u'pint', u'beverag', u'quesadilla', u'lake', u'creat', u'eggplant', u'm', u'bourbon', u'lower', u'indoor', u'receiv', u'e', u'bother', u'grit', u'sip', u'raw', u'masala', u'flat', u'signatur', u'blend', u'color', u'menus', u'flight', u'takeout', u'sister', u'gorgeous', u'today', u'crepe', u'spent', u'par', u'wild', u'innov', u'destin', u'peak', u'crunchi', u'accept', u'massiv', u'spanish', u'basil', u'employe', u'eclect', u'soy', u'\\u2014', u'damn', u'concept', u'joe', u'accompani', u'age', u'machin', u'fashion', u'mark', u'plain', u'blow', u'various', u'cater', u'direct', u'separ', u'figur', u'mi', u'focus', u'mall', u'section', u'offic', u'paid', u'admit', u'train', u'bore', u'occasion', u'realiz', u'yeah', u'hearti', u'pitcher', u'station', u'updat', u'funki', u'central', u'moist', u'load', u'greet', u'con', u'surround', u'carrot', u'winner', u'orlean', u'credit', u'unusu', u'chile', u'karaok', u'shell', u'tempura', u'omelet', u'foodi', u'detail', u'\\u3002', u'milkshak', u'enter', u'starter', u'patti', u'6th', u'king', u'act', u'dj', u'impecc', u'killer', u'trivia', u'quaint', u'unlik', u'40', u'fondu', u'buffalo', u'appeal', u'throw', u'worri', u'besid', u'drunk', u'throughout', u'prici', u'sens', u'breweri', u'english', u'constant', u'mole', u'mess', u'air', u'social', u'mom', u'so-so', u\"they'll\", u'appear', u'assort', u'major', u'basement', u'tour', u'inform', u'addict', u'closer', u'eateri', u'muffin', u'tad', u'cupcak', u'bet', u'chewi', u'caus', u'omelett', u'carnita', u'filet', u'bottom', u'pleasur', u'gotta', u'bewar', u'taqueria', u'stellar', u'mint', u'advanc', u'lost', u'screen', u'\\u2013', u'overcook', u'appar', u'union', u'toward', u'grand', u'couch', u'sesam', u'carn', u'mini', u'coast', u'sorri', u'sunni', u'bomb', u'tuck', u'deck', u'dozen', u'opt', u'shanghai', u'met', u'mojito', u'chorizo', u'scrambl', u'hell', u'truck', u'arcad', u'entranc', u'listen', u'dc', u'visitor', u'cinnamon', u'tight', u'dream', u'courteous', u'straight', u'perform', u'ring', u'bubbl', u'p', u'proper', u'hop', u'wors', u'bonus', u'overlook', u'pictur', u'random', u'attend', u'vodka', u'25', u'divers', u'themselv', u'carri', u'45', u'draw', u'ave', u'vanilla', u'stomach', u'tot', u'specif', u'ale', u'lit', u'valley', u'god', u'handl', u'cheesi', u'asid', u'pig', u'syrup', u'chai', u'product', u'cant', u'cod', u'liquor', u'midtown', u'lincoln', u\"we'r\", u'somehow', u'quantiti', u'sampler', u'remain', u'neat', u'decad', u'histori', u'mocha', u'drip', u'cheddar', u'lane', u'negat', u'pineappl', u'fave', u'explain', u'term', u'paper', u'farm', u'team', u'challeng', u'cajun', u'fail', u'inspir', u'cucumb', u'outlet', u'trailer', u'doubt', u'eater', u'till', u'deserv', u'ador', u'spread', u'bistro', u'beet', u'unbeliev', u'pan', u'sunset', u'natur', u'popcorn', u'fatti', u'cevich', u'smooth', u'blast', u'experienc', u'biggest', u'tom', u'access', u'moment', u'bud', u'smoothi', u'sing', u'loop', u'moder', u'trust', u'penni', u'travel', u'candi', u'complimentari', u'greatest', u'confus', u'tire', u'institut', u'broccoli', u'ham', u'learn', u'insan', u'suit', u'hall', u'divin', u'2nd', u'memori', u'underwhelm', u'discov', u'count', u'belgian', u'octopus', u'googl', u'contain', u'everyday', u'laptop', u'sear', u'situat', u'fav', u'bustl', u'posit', u'funni', u'cheeseburg', u'alley', u'sticki', u'mayo', u'song', u'everywher', u'mex', u'ordinari', u'parent', u'tikka', u'car', u'asada', u'awkward', u'mustard', u'o', u'stori', u'system', u'fluffi', u'almond', u'sourc', u'power', u'tartar', u'bass', u'fell', u'awhil', u'y', u'layout', u'compliment', u'campus', u'boil', u'begin', u'forgot', u'agre', u'chose', u'holiday', u'soul', u'luck', u'los', u'prix', u'tart', u'mile', u'boot', u'brais', u'leftov', u'nicer', u'appetit', u\"we'll\", u'freshest', u'anymor', u'torchi', u'imposs', u'cilantro', u'bitter', u'avenu', u';)', u'footbal', u'touristi', u'bao', u'artichok', u'video', u'exquisit', u'u', u'period', u'rustic', u'comfi', u'ideal', u'post', u'cheer', u'futur', u'mild', u'chic', u'burn', u'magic', u'adult', u'discount', u'below', u'fireplac', u'upper', u'cider', u'form', u'pain', u'shack', u'dosa', u'afterward', u'#', u'safe', u'root', u'soggi', u'sun', u'favor', u'11', u'blueberri', u'factori', u'purchas', u'exist', u'gross', u'creme', u'exampl', u'nativ', u'catfish', u'wast', u'sub', u'pure', u'skin', u'grow', u'six', u'punch', u'cornbread', u'lemonad', u'standout', u'answer', u'grub', u'clientel', u'ticket', u'third', u'onlin', u'denver', u'wallet', u'batter', u'nut', u'requir', u'oili', u'older', u'common', u'quirki', u'scallion', u'cappuccino', u'ignor', u'hummus', u'to-go', u'banh', u'feed', u'infus', u'dig', u'gather', u'current', u'pastor', u'leg', u'chow', u'beignet', u'calori', u'dough', u'worker', u'hey', u'charact', u'spoon', u'groupon', u'sick', u'wooden', u'wed', u'wear', u'butteri', u'blown', u'hook', u'le', u'gelato', u'previous', u'culinari', u'roof', u'burnt', u'shame', u'1/2', u'champagn', u'fortun', u'glaze', u'against', u'ampl', u'devil', u'substitut', u'chilli', u'hurri', u'fool', u'def', u'finest', u'road', u'golden', u'mapl', u'expert', u':-)', u'cherri', u'effort', u'concoct', u'crawfish', u'stone', u'pastrami', u'paneer', u'fli', u'claim', u'anniversari', u'jar', u'quarter', u'omg', u'que', u'ocean', u\"hasn't\", u'bought', u'yellow', u'wheat', u'squeez', u'take-out', u'din', u'mountain', u'frank', u'comment', u'bargain', u'tamal', u'speakeasi', u'kale', u'photo', u'lol', u\"shouldn't\", u'ravioli', u'correct', u'mcdonald', u'falafel', u'budget', u'restroom', u'tavern', u'gnocchi', u'ten', u'crunch', u'palat', u'complement', u'edg', u'result', u':(', u'neighbor', u'pricier', u'further', u'assum', u'complex', u'troubl', u'son', u'd', u'delic', u'stew', u'oven', u'whip', u'nonetheless', u'display', u'anim', u'score', u'au', u'[', u'everytim', u\"it'll\", u'yorker', u'websit', u'coat', u'member', u'support', u'competit', u']', u'gras', u'barbecu', u'char', u'lose', u'men', u'unlimit', u'communiti', u'buzz', u'tex', u'brick', u'meant', u'inconsist', u'weak', u'skewer', u'bell', u'torta', u'luckili', u'mistak', u'fight', u'produc', u'anytim', u'layer', u'tree', u'exot', u'risotto', u'pit', u'earlier', u'weeknight', u'spin', u'vintag', u'promis', u'stuck', u'ipa', u'industri', u'opportun', u'chunk', u'gift', u'wise', u'ventur', u'poach', u'darn', u'pinbal', u'non', u'nor', u'mug', u'cowork', u'genuin', u'accord', u'sold', u'gumbo', u'search', u'respect', u'trout', u'delect', u'onto', u'judg', u'frill', u'marin', u'squash', u'squid', u'recip', u'soak', u'stood', u'slaw', u'unexpect', u'push', u'children', u'stumbl', u'traffic', u'nom', u'tongu', u'knock', u'mozzarella', u'cabbag', u'press', u'peke', u'asparagus', u'enorm', u'site', u'ride', u'tasteless', u'kill', u'c', u'trap', u'replac', u'foie', u'basket', u'success', u'backyard', u'cuban', u'croissant', u'pea', u'homey', u'sooo', u'stuffi', u'public', u'ruin', u'ranch', u'bottomless', u'thumb', u'picnic', u'prawn', u'earth', u'sidewalk', u'houston', u'communal', u'explor', u'didnt', u'ahi', u'reput', u'rum', u'legit', u'array', u'expand', u'drinker', u'breast', u'indulg', u'finger', u'g', u'practic', u'wash', u'wasabi', u'histor', u'christma', u'crap', u'stun', u'artist', u'shock', u'brother', u'process', u'pesto', u'hangov', u'individu', u'vega', u'fork', u'stool', u'sexi', u'se', u'pear', u'berri', u'cashier', u'picki', u'stock', u'self', u'repeat', u'client', u'walnut', u'jack', u'williamsburg', u'joke', u'row', u'theatr', u'sophist', u'yogurt', u'bang', u'14', u'pile', u'scream', u'former', u'regardless', u'dead', u'parmesan', u'piano', u'extraordinari', u'fault', u'ricotta', u'meatloaf', u'rais', u'im', u'signific', u'bank', u'velvet', u'lazi', u'wonton', u'ketchup', u'philz', u'pecan', u'snag', u'cultur', u'frite', u'passion', u'samosa', u'watermelon', u'coupon', u'nigiri', u'udon', u'unpretenti', u'wicker', u'tater', u'rose', u'energi', u'allergi', u'background', u'justifi', u'renov', u'european', u'ive', u'corpor', u'patient', u'rough', u'rule', u'yelp', u'spotti', u'collect', u'les', u'steep', u'festiv', u'drunken', u'generic', u'shoulder', u'18', u'necessarili', u'stack', u'familiar', u'china', u'ultim', u'en', u'angel', u'concern', u'bike', u'aioli', u'pound', u'ran', u'tho', u'branch', u'america', u'mother', u'distract', u'wont', u'easier', u'fake', u'daughter', u'worthi', u'16', u'compet', u'hospit', u'rainey', u'steal', u'messi', u'bisqu', u'jukebox', u'internet', u'scotch', u'pipe', u'send', u'cauliflow', u'mama', u'bench', u'1st', u'gluten-fre', u'elev', u'juan', u'numer', u'35', u'vinegar', u'midnight', u'plastic', u'rabbit', u'mignon', u'introduc', u'stir', u'hotdog', u'spirit', u'pong', u'paint', u'appropri', u'uncomfort', u'pearl', u'chuy', u'mad', u'feast', u'essenti', u'boba', u'mill', u'fee', u'lead', u'tiki', u'caught', u'pace', u'bird', u'eh', u'adequ', u'remark', u'\\u2026', u'stumptown', u're', u'omakas', u'ut', u'13', u'herb', u'marina', u'groceri', u'jalape\\xf1o', u'albeit', u'flour', u'settl', u'fulli', u'liver', u'companion', u'talent', u'top-notch', u'hood', u'kimchi', u'marrow', u'vs', u'vast', u'attempt', u'michelin', u'approach', u'90', u'boat', u'iron', u'bridg', u'everybodi', u'premium', u'bear', u'stale', u'women', u'afraid', u'tonight', u'distanc', u'epic', u'cure', u'diet', u'cafeteria', u'bouncer', u'\\u3001', u'factor', u've', u'tune', u'kobe', u'polici', u'itali', u'booz', u'bump', u'stair', u'peach', u'browni', u'transport', u'valet', u'landmark', u'quail', u'cross', u'trek', u'activ', u'shine', u'philli', u'lie', u'co-work', u'crack', u'sichuan', u'respons', u'russian', u'pre', u'un', u'japan', u'holi', u'macaroni', u'horchata', u'fig', u'master', u'es', u'napkin', u'lunchtim', u'closest', u'underground', u'height', u'court', u'scone', u'broadway', u'expans', u'india', u'excus', u'grown', u'hint', u'queen', u'out-of-town', u'descript', u'thorough', u'exceed', u'creation', u'border', u'laugh', u'western', u'flow', u'21', u'oatmeal', u'cheapest', u'churro', u'sustain', u'calm', u'unassum', u'tab', u'leaf', u'nicest', u'land', u'inde', u'soccer', u'gf', u'balconi', u'blood', u'dart', u'chelsea', u'involv', u'teriyaki', u'pink', u'tag', u'hair', u'coke', u'sight', u'sent', u'won', u'alot', u'tail', u'uw', u'caffein', u\"we'd\", u'puff', u'gigant', u'marg', u'porch', u'awar', u'cent', u'mmm', u'hesit', u'miga', u'wander', u'airi', u'furnitur', u'candl', u'brule', u'papaya', u'shred', u'uni', u'gin', u'tangi', u'region', u'greas', u'spendi', u'custard', u'rain', u'uninspir', u'outrag', u'protein', u'disgust', u'meati', u'muy', u'bento', u'subway', u'splurg', u'mediterranean', u'guarante', u'bed', u'wi-fi', u'panini', u'caesar', u'shoot', u'noon', u'rowdi', u'huevo', u'aspect', u'temperatur', u'apolog', u'fyi', u'brand', u'jelli', u'chaat', u'packag', u'hawaiian', u'express', u'flair', u'veg', u'sunda', u'feet', u'neither', u'in-n-out', u'gold', u'll', u'endless', u'setup', u'ala', u'latin', u'80', u'buddi', u'pita', u'sprinkl', u'health', u'drag', u'alto', u'advic', u'accomod', u'dad', u'7pm', u'mongolian', u'hole-in-the-wal', u'l', u'roti', u'drawback', u'flavour', u'katsu', u'kong', u'santa', u'verd', u'initi', u'hh', u'arrang', u'nowher', u'mai', u'lobbi', u'lighter', u'via', u'tempt', u'condiment', u'sleek', u'hong', u'subtl', u'librari', u'tenderloin', u'faster', u'tower', u\"they'd\", u'charcuteri', u'low-key', u'mcmenamin', u'buttermilk', u'overcrowd', u'account', u'swear', u'blt', u'soma', u'refin', u'barrel', u'soooo', u'djs', u'minimum', u'retro', u'fritter', u'divey', u'foot', u'ping', u'gyro', u'defin', u'acoust', u'toro', u'dare', u'cloth', u'eastern', u'england', u'raspberri', u'skill', u'becam', u'tray', u'ratio', u'convinc', u'starv', u'scoop', u'advantag', u'arugula', u'ensur', u'id', u'narrow', u'bus', u'oper', u'trick', u'poutin', u'pok', u'berkeley', u'flatbread', u'paella', u'content', u'toss', u'distinct', u'regist', u'tax', u'dan', u'overpow', u\"hadn't\", u'crew', u'skillet', u'superior', u'hurt', u'blew', u'brioch', u'moon', u'saute', u'shave', u'contemporari', u'formal', u'hazelnut', u'seed', u'univers', u'soho', u'scrumptious', u'sale', u'plant', u'stylish', u'hassl', u'minim', u'swanki', u'john', u'shape', u'icon', u'spill', u'conge', u'string', u'path', u'strike', u'brilliant', u'obnoxi', u'danger', u'mexico', u'standbi', u'tandoori', u'fond', u'vinaigrett', u'fountain', u'grew', u'yard', u'ambient', u'action', u'cantones', u'engag', u'smother', u'r', u'woman', u'decis', u'cat', u'obsess', u'dude', u'magnolia', u'mingl', u'pro', u'castro', u'snob', u'scare', u'las', u'coolest', u'museum', u'lean', u'prosciutto', u'stare', u'grant', u'caf\\xe9', u'smart', u'relleno', u'em', u'attach', u'eventu', u'seawe', u'element', u'minus', u'fishi', u'ear', u'film', u'f', u'60', u'player', u'ourselv', u'macaron', u'cigar', u'drank', u'network', u'tall', u'connect', u'built', u'yell', u'garag', u'confit', u'curd', u'nobodi', u'joy', u'thus', u'code', u'manner', u'sourdough', u'influenc', u'kerbey', u'forc', u'broken', u'secur', u'habanero', u'kebab', u'lamp', u'thrill', u'reach', u'freak', u'sit-down', u'courtyard', u'haha', u'outing', u'control', u\"ain't\", u'wateri', u'metal', u'halibut', u'pros', u'notabl', u'michigan', u'farmer', u'edit', u'grape', u'degre', u'oppos', u'volum', u'ranchero', u'tres', u'spaghetti', u'lo', u'luxuri', u'consum', u'lemongrass', u'undercook', u'reward', u'crush', u'partial', u'powder', u'warmer', u'favourit', u'sommeli', u'treasur', u'intens', u'prior', u'cooler', u'coleslaw', u'congress', u'dislik', u'munch', u'raini', u'speedi', u'mmmm', u'haight', u'pinch', u'float', u'handmad', u'guilti', u'amongst', u'join', u'wanna', u'taro', u'pepperoni', u'uptown', u'younger', u'remodel', u'high-end', u'hay', u'grandma', u'gracious', u'jose', u'gonna', u'honor', u'vibrant', u'imo', u'polish', u'lacklust', u'cow', u'airport', u'beaten', u'veal', u'sucker', u'palac', u'nasti', u'dedic', u'northern', u'rosemari', u'polenta', u'alik', u'swing', u'rent', u'mike', u'intelligentsia', u'hut', u'advertis', u'stretch', u'blah', u'comparison', u'track', u'flavorless', u'rye', u'reflect', u'puppi', u'sorbet', u'comedi', u'oasi', u'dragon', u'quintessenti', u'10pm', u'ippudo', u'surf', u'haunt', u'clay', u'sirloin', u'inner', u'alamo', u'strict', u'page', u'dos', u'suffer', u'antonio', u'worthwhil', u'restur', u'intrigu', u'inattent', u'switch', u'scale', u'dump', u'queue', u'depart', u'over-pr', u'elbow', u'test', u'stroll', u'default', u'mixtur', u'edamam', u'partner', u'child', u'mahi', u'guin', u'ew', u'izakaya', u'bucket', u'basi', u'rub', u'encourag', u'promot', u'hippi', u'penn', u'purpl', u'soba', u'franc', u'lakeview', u'logan', u'record', u'nation', u'hors', u'quieter', u'vermicelli', u'variat', u'satay', u'exterior', u'reccomend', u'minor', u'lech', u':d', u'amus', u'discuss', u'effect', u'cactus', u'fed', u'j', u'recal', u'jerk', u'convert', u'get-togeth', u'thali', u'sublim', u'jean', u'sole', u'million', u'bias', u'speed', u'written', u'unfriend', u'carnivor', u'instant', u'3.5', u'tonkotsu', u'award', u'argu', u'seek', u'rank', u'potenti', u'healthier', u'stiff', u'interact', u'categori', u'boom', u'citrus', u'reuben', u'lassi', u'intend', u'pier', u'forgotten', u'jump', u'nightclub', u'enthusiast', u'grass', u'flag', u'wind', u'wet', u'6pm', u'financi', u'sloppi', u'circl', u'crappi', u'linger', u'palo', u'colorado', u'therefor', u'abund', u'cram', u'cranberri', u'washington', u'mouss', u'shoe', u'towner', u'late-night', u'shadi', u'stranger', u'resid', u'screw', u'reminisc', u'ferri', u'needless', u'vacat', u'cousin', u'@', u'pbr', u'hello', u'blacken', u'downhil', u'pf', u'chew', u'gay', u'bull', u'tiramisu', u'miami', u'd\\xe9cor', u'burrata', u'sticker', u'roaster', u'3rd', u'entri', u'comp', u'para', u'modest', u'denni', u'passabl', u'fuss', u'leagu', u'shuffleboard', u'planet', u'lyche', u'heck', u'madison', u'smoki', u'church', u'murray', u'resist', u'ribey', u'happili', u'escap', u'hunt', u'mere', u'thrown', u'trio', u'purpos', u'colleagu', u'turkish', u'delux', u'yolk', u'michael', u'cri', u'proud', u'du', u'refus', u'po', u'entr\\xe9', u'recomend', u'creek', u'soo', u');', u'curious', u'legendari', u'cap', u'carb', u'lox', u'peac', u'held', u'max', u'poison', u'liquid', u'tiger', u'mellow', u'stress', u'fame', u'hundr', u'taiwanes', u'asia', u'maintain', u'silli', u'harvard', u'bold', u'flower', u'ill', u'tie', u'sandwhich', u'kosher', u'wasnt', u'tremend', u'rainbow', u'nick', u'gooey', u'heavili', u'grace', u'baguett', u'snapper', u'mr', u'meyer', u'empanada', u'toler', u'mass', u'brie', u'slam', u'ya', u'sam', u'chris', u'regard', u'biryani', u'sin', u'atm', u'wedg', u'upgrad', u'panna', u'smokey', u'comida', u'old-school', u'after-work', u'bummer', u'pomegran', u'sparkl', u'hustl', u'skimp', u'lamar', u'rival', u'email', u'atlanta', u'paradis', u'9pm', u'disney', u'remov', u'musician', u'kung', u'skirt', u'gastropub', u'22', u'pari', u'ritual', u'valentin', u'8p', u'sweat', u'spare', u'project', u'upset', u'microbrew', u'yesterday', u'lentil', u'nutella', u'wagyu', u'all-you-can-eat', u'horseradish', u'clark', u'stout', u'microwav', u'jenga', u'port', u'critic', u'shirt', u\"would'v\", u'cotta', u'steer', u'ca', u'fruiti', u'flaki', u'plantain', u'scratch', u'hyde', u'2013', u'2012', u'opposit', u'measur', u'yay', u'banger', u'hollywood', u'maki', u'confirm', u'urban', u'edibl', u'boar', u'comput', u'schedul', u'encount', u'ruth', u'risk', u'cracker', u'artwork', u'hula', u'arm', u'hat', u'novelti', u'era', u'tone', u'shout', u'kee', u'lick', u'harlem', u'foreign', u'empir', u'hide', u'grove', u'turtl', u'co', u'oldest', u'ho', u'junior', u'del', u'luke', u'tastiest', u'overbear', u'yuppi', u'thanksgiv', u'gyoza', u'fianc', u'eager', u'richmond', u'diego', u'frustrat', u'jambalaya', u'childhood', u'jewish', u'pdx', u'btw', u'law', u'tapioca', u'bayless', u'fulfil', u'fellow', u'skeptic', u'goos']\n"
     ]
    }
   ],
   "source": [
    "import nltk\n",
    "f = nltk.FreqDist(all_words)\n",
    "all_feats = [i[0] for i in f.most_common(3000)]\n",
    "print all_feats"
   ]
  },
  {
   "cell_type": "code",
   "execution_count": 52,
   "metadata": {},
   "outputs": [
    {
     "name": "stdout",
     "output_type": "stream",
     "text": [
      "0.0142460289194\n",
      "0.0284920578389\n",
      "0.0427380867583\n",
      "0.0569841156778\n",
      "0.0712301445972\n",
      "0.0854761735166\n",
      "0.0997222024361\n",
      "0.113968231356\n",
      "0.128214260275\n",
      "0.142460289194\n",
      "0.156706318114\n",
      "0.170952347033\n",
      "0.185198375953\n",
      "0.199444404872\n",
      "0.213690433792\n",
      "0.227936462711\n",
      "0.24218249163\n",
      "0.25642852055\n",
      "0.270674549469\n",
      "0.284920578389\n",
      "0.299166607308\n",
      "0.313412636228\n",
      "0.327658665147\n",
      "0.341904694067\n",
      "0.356150722986\n",
      "0.370396751905\n",
      "0.384642780825\n",
      "0.398888809744\n",
      "0.413134838664\n",
      "0.427380867583\n",
      "0.441626896503\n",
      "0.455872925422\n",
      "0.470118954341\n",
      "0.484364983261\n",
      "0.49861101218\n",
      "0.5128570411\n",
      "0.527103070019\n",
      "0.541349098939\n",
      "0.555595127858\n",
      "0.569841156778\n",
      "0.584087185697\n",
      "0.598333214616\n",
      "0.612579243536\n",
      "0.626825272455\n",
      "0.641071301375\n",
      "0.655317330294\n",
      "0.669563359214\n",
      "0.683809388133\n",
      "0.698055417052\n",
      "0.712301445972\n",
      "0.726547474891\n",
      "0.740793503811\n",
      "0.75503953273\n",
      "0.76928556165\n",
      "0.783531590569\n",
      "0.797777619489\n",
      "0.812023648408\n",
      "0.826269677327\n",
      "0.840515706247\n",
      "0.854761735166\n",
      "0.869007764086\n",
      "0.883253793005\n",
      "0.897499821925\n",
      "0.911745850844\n",
      "0.925991879764\n",
      "0.940237908683\n",
      "0.954483937602\n",
      "0.968729966522\n",
      "0.982975995441\n",
      "0.997222024361\n"
     ]
    }
   ],
   "source": [
    "def make_features(text):\n",
    "    present_features = []\n",
    "    for w in all_feats:\n",
    "        present_features.append(w in text)\n",
    "    return present_features\n",
    "\n",
    "X = []\n",
    "y = []\n",
    "i = 0\n",
    "for k,v in review_hash.iteritems():\n",
    "    i += 1\n",
    "    if i % 1000 == 0:\n",
    "        print i/(len(review_hash)*1.0)\n",
    "    X.append(make_features(v[0]))\n",
    "    y.append(v[1])"
   ]
  },
  {
   "cell_type": "code",
   "execution_count": null,
   "metadata": {
    "collapsed": true
   },
   "outputs": [],
   "source": [
    "print X[0]"
   ]
  },
  {
   "cell_type": "code",
   "execution_count": 53,
   "metadata": {},
   "outputs": [
    {
     "name": "stdout",
     "output_type": "stream",
     "text": [
      "{'category': 0, 'rating': 4.0, 'reviewHash': 'R567271252', 'businessID': 'B423621081', 'unixReviewTime': 1378865039, 'reviewText': u\"I'm a vegetarian, but every so often I want a hotdog with lots of toppings.  And a tall can of beer.  Frank has got that covered.  And they have a cool warehouse space with some pinball machines.  Prices are a little high for hotdogs...fancy hotdogs, but hotdogs nonetheless.  Good location and service, but gets crowded and loud.\", 'userID': 'U985379327', 'reviewTime': u'Sep 10, 2013', 'categories': [u'American Restaurant', u'Cafe', u'Hot Dog Restaurant'], 'categoryID': 0}\n"
     ]
    }
   ],
   "source": []
  },
  {
   "cell_type": "code",
   "execution_count": 54,
   "metadata": {
    "collapsed": true
   },
   "outputs": [],
   "source": [
    "from sklearn.neural_network import MLPClassifier\n",
    "nn_class = MLPClassifier(early_stopping = True, verbose = True)"
   ]
  },
  {
   "cell_type": "code",
   "execution_count": 55,
   "metadata": {
    "collapsed": true
   },
   "outputs": [],
   "source": [
    "from sklearn.naive_bayes import MultinomialNB\n",
    "mnb_class = MultinomialNB()"
   ]
  },
  {
   "cell_type": "code",
   "execution_count": 71,
   "metadata": {
    "collapsed": true
   },
   "outputs": [],
   "source": [
    "from sklearn.ensemble import VotingClassifier\n",
    "v_class = VotingClassifier(estimators = [(\"nn\",MLPClassifier(early_stopping = True, verbose = True)), \n",
    "                                         (\"mnb\",MultinomialNB())], voting='soft')"
   ]
  },
  {
   "cell_type": "code",
   "execution_count": 56,
   "metadata": {},
   "outputs": [
    {
     "name": "stdout",
     "output_type": "stream",
     "text": [
      "70195\n"
     ]
    }
   ],
   "source": [
    "print len(X)"
   ]
  },
  {
   "cell_type": "code",
   "execution_count": 57,
   "metadata": {
    "collapsed": true
   },
   "outputs": [],
   "source": [
    "X_train = X[:60000]\n",
    "y_train = y[:60000]\n",
    "X_test = X[60000:]\n",
    "y_test = y[60000:]"
   ]
  },
  {
   "cell_type": "code",
   "execution_count": 59,
   "metadata": {},
   "outputs": [
    {
     "data": {
      "text/plain": [
       "MultinomialNB(alpha=1.0, class_prior=None, fit_prior=True)"
      ]
     },
     "execution_count": 59,
     "metadata": {},
     "output_type": "execute_result"
    }
   ],
   "source": [
    "mnb_class.fit(X_train,y_train)"
   ]
  },
  {
   "cell_type": "code",
   "execution_count": 60,
   "metadata": {},
   "outputs": [
    {
     "name": "stdout",
     "output_type": "stream",
     "text": [
      "6322 / 10195\n"
     ]
    }
   ],
   "source": [
    "outputs = mnb_class.predict(X_test)\n",
    "correct = 0\n",
    "for o,t in zip(outputs,y_test):\n",
    "    correct += (o==t)\n",
    "print correct, \"/\", len(y_test)"
   ]
  },
  {
   "cell_type": "code",
   "execution_count": 61,
   "metadata": {},
   "outputs": [
    {
     "name": "stdout",
     "output_type": "stream",
     "text": [
      "Iteration 1, loss = 1.47546717\n",
      "Validation score: 0.626000\n",
      "Iteration 2, loss = 1.08291935\n",
      "Validation score: 0.636833\n",
      "Iteration 3, loss = 0.99275261\n",
      "Validation score: 0.637000\n",
      "Iteration 4, loss = 0.93406947\n",
      "Validation score: 0.633500\n",
      "Iteration 5, loss = 0.88269941\n",
      "Validation score: 0.631167\n",
      "Iteration 6, loss = 0.83707802\n",
      "Validation score: 0.624333\n",
      "Validation score did not improve more than tol=0.000100 for two consecutive epochs. Stopping.\n"
     ]
    },
    {
     "data": {
      "text/plain": [
       "MLPClassifier(activation='relu', alpha=0.0001, batch_size='auto', beta_1=0.9,\n",
       "       beta_2=0.999, early_stopping=True, epsilon=1e-08,\n",
       "       hidden_layer_sizes=(100,), learning_rate='constant',\n",
       "       learning_rate_init=0.001, max_iter=200, momentum=0.9,\n",
       "       nesterovs_momentum=True, power_t=0.5, random_state=None,\n",
       "       shuffle=True, solver='adam', tol=0.0001, validation_fraction=0.1,\n",
       "       verbose=True, warm_start=False)"
      ]
     },
     "execution_count": 61,
     "metadata": {},
     "output_type": "execute_result"
    }
   ],
   "source": [
    "nn_class.fit(X_train,y_train)"
   ]
  },
  {
   "cell_type": "code",
   "execution_count": 62,
   "metadata": {},
   "outputs": [
    {
     "name": "stdout",
     "output_type": "stream",
     "text": [
      "6443 / 10195\n"
     ]
    }
   ],
   "source": [
    "outputs = nn_class.predict(X_test)\n",
    "correct = 0\n",
    "for o,t in zip(outputs,y_test):\n",
    "    correct += (o==t)\n",
    "print correct, \"/\", len(y_test)"
   ]
  },
  {
   "cell_type": "code",
   "execution_count": 73,
   "metadata": {},
   "outputs": [
    {
     "name": "stdout",
     "output_type": "stream",
     "text": [
      "Iteration 1, loss = 1.49319121\n",
      "Validation score: 0.624833\n",
      "Iteration 2, loss = 1.08785108\n",
      "Validation score: 0.635000\n",
      "Iteration 3, loss = 0.99743166\n",
      "Validation score: 0.630667\n",
      "Iteration 4, loss = 0.93962779\n",
      "Validation score: 0.629667\n",
      "Iteration 5, loss = 0.89012936\n",
      "Validation score: 0.624667\n",
      "Validation score did not improve more than tol=0.000100 for two consecutive epochs. Stopping.\n"
     ]
    },
    {
     "data": {
      "text/plain": [
       "VotingClassifier(estimators=[('nn', MLPClassifier(activation='relu', alpha=0.0001, batch_size='auto', beta_1=0.9,\n",
       "       beta_2=0.999, early_stopping=True, epsilon=1e-08,\n",
       "       hidden_layer_sizes=(100,), learning_rate='constant',\n",
       "       learning_rate_init=0.001, max_iter=200, momentum=0.9,\n",
       "       nesterovs_momentum...rbose=True, warm_start=False)), ('mnb', MultinomialNB(alpha=1.0, class_prior=None, fit_prior=True))],\n",
       "         flatten_transform=None, n_jobs=1, voting='soft', weights=None)"
      ]
     },
     "execution_count": 73,
     "metadata": {},
     "output_type": "execute_result"
    }
   ],
   "source": [
    "v_class.fit(X_train,y_train)"
   ]
  },
  {
   "cell_type": "code",
   "execution_count": 74,
   "metadata": {},
   "outputs": [
    {
     "name": "stdout",
     "output_type": "stream",
     "text": [
      "6468 / 10195\n"
     ]
    }
   ],
   "source": [
    "outputs = v_class.predict(X_test)\n",
    "correct = 0\n",
    "for o,t in zip(outputs,y_test):\n",
    "    correct += (o==t)\n",
    "print correct, \"/\", len(y_test)"
   ]
  },
  {
   "cell_type": "code",
   "execution_count": 77,
   "metadata": {
    "collapsed": true
   },
   "outputs": [],
   "source": [
    "predictions = open(\"predictions_Category.txt\", 'w')\n",
    "predictions.write(\"userID-reviewHash,category\\n\")\n",
    "for l in readGz(\"test_Category.json.gz\"):\n",
    "  \n",
    "    words = tokenizer.tokenize(l['reviewText'])\n",
    "    words = [stemmer.stem(w) for w in words]\n",
    "    feats = [make_features(words)]\n",
    "    cat = v_class.predict(feats)[0]\n",
    "    predictions.write(l['userID'] + '-' + l['reviewHash'] + \",\" + str(cat) + \"\\n\")\n",
    "\n",
    "predictions.close()"
   ]
  },
  {
   "cell_type": "code",
   "execution_count": 4,
   "metadata": {},
   "outputs": [
    {
     "name": "stdout",
     "output_type": "stream",
     "text": [
      "{'rating': 5.0, 'reviewText': u\"I've been here with a large group, eating with the family, and attending the moisture festival. Each time has been a wonderful experience. The beer at Hales has variety and taste. Love their Ntiro tap and their delicious food. Good bar section and separate seating if you're looking for something quieter.\", 'userID': 'U784206181', 'reviewHash': 'R287025050', 'unixReviewTime': 1394254315, 'reviewTime': u'Mar 7, 2014'}\n"
     ]
    }
   ],
   "source": [
    "l = readGz(\"test_Category.json.gz\")"
   ]
  },
  {
   "cell_type": "code",
   "execution_count": 7,
   "metadata": {},
   "outputs": [
    {
     "name": "stdout",
     "output_type": "stream",
     "text": [
      "{'rating': 2.0, 'reviewText': u\"My friend is the head bartender there, so that's great. I think the drinks are over-priced, but it's a fun environment.\", 'userID': 'U977431350', 'reviewHash': 'R718278791', 'unixReviewTime': 1376186613, 'reviewTime': u'Aug 10, 2013'}\n"
     ]
    }
   ],
   "source": [
    "print l.next()"
   ]
  },
  {
   "cell_type": "code",
   "execution_count": null,
   "metadata": {
    "collapsed": true
   },
   "outputs": [],
   "source": []
  },
  {
   "cell_type": "code",
   "execution_count": null,
   "metadata": {
    "collapsed": true
   },
   "outputs": [],
   "source": []
  }
 ],
 "metadata": {
  "kernelspec": {
   "display_name": "Python 2",
   "language": "python",
   "name": "python2"
  },
  "language_info": {
   "codemirror_mode": {
    "name": "ipython",
    "version": 2
   },
   "file_extension": ".py",
   "mimetype": "text/x-python",
   "name": "python",
   "nbconvert_exporter": "python",
   "pygments_lexer": "ipython2",
   "version": "2.7.13"
  }
 },
 "nbformat": 4,
 "nbformat_minor": 2
}

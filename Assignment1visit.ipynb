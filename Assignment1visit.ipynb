{
 "cells": [
  {
   "cell_type": "code",
   "execution_count": 1,
   "metadata": {
    "collapsed": true
   },
   "outputs": [],
   "source": [
    "import gzip\n",
    "from collections import defaultdict\n",
    "\n",
    "def readGz(f):\n",
    "  for l in gzip.open(f):\n",
    "    yield eval(l)"
   ]
  },
  {
   "cell_type": "code",
   "execution_count": 2,
   "metadata": {},
   "outputs": [
    {
     "name": "stdout",
     "output_type": "stream",
     "text": [
      "{'rating': 3.0, 'reviewHash': 'R226572783', 'businessID': 'B634950425', 'unixReviewTime': 1321549271, 'reviewText': u\"Great if you want a special night in a super plush environment but don't expect to pay less than $10 per drink.\", 'userID': 'U369842280', 'reviewTime': u'Nov 17, 2011', 'categories': [u'Luxury Hotel', u'Wedding Venue']}\n"
     ]
    }
   ],
   "source": [
    "reviews = []\n",
    "for r in readGz(\"train.json.gz\"):\n",
    "    reviews.append(r)\n",
    "print reviews[10]"
   ]
  },
  {
   "cell_type": "code",
   "execution_count": 3,
   "metadata": {},
   "outputs": [
    {
     "name": "stdout",
     "output_type": "stream",
     "text": [
      "{'B211117692': 1, 'B744259798': 1, 'B478307368': 1, 'B915123517': 1, 'B377220586': 1, 'B675368412': 1, 'B161779289': 1, 'B652388772': 1, 'B408037852': 1, 'B038663558': 1, 'B123499039': 1, 'B274985615': 1, 'B433549047': 1, 'B071971841': 1, 'B940390363': 1, 'B266571746': 1, 'B716109571': 1, 'B311598637': 1, 'B433899722': 1, 'B775853642': 1}\n"
     ]
    }
   ],
   "source": [
    "userList = []\n",
    "businessList = []\n",
    "#user->business hashtable\n",
    "userHash = {}\n",
    "#business->user hashtable\n",
    "businessHash = {}\n",
    "#list of pairs\n",
    "pairs = []\n",
    "\n",
    "for v in reviews:\n",
    "    userID = v['userID']\n",
    "    businessID = v['businessID']\n",
    "    pairs.append((userID,businessID))\n",
    "    if businessID not in businessHash:\n",
    "        businessHash[businessID] = {}\n",
    "        businessList.append(businessID)\n",
    "    if userID not in userHash:\n",
    "        userHash[userID] = {}\n",
    "        userList.append(userID)\n",
    "    if userID not in businessHash[businessID]:\n",
    "        businessHash[businessID][userID] = 0\n",
    "    if businessID not in userHash[userID]:\n",
    "        userHash[userID][businessID] = 0\n",
    "        \n",
    "        \n",
    "    userHash[userID][businessID] += 1\n",
    "    businessHash[businessID][userID] += 1\n",
    "\n",
    "import random\n",
    "f_pairs = []\n",
    "while len(f_pairs) != 200000:\n",
    "    user = random.choice(userList)\n",
    "    business = random.choice(businessList)\n",
    "    if user not in businessHash[business]:\n",
    "        f_pairs.append((user,business))\n",
    "print userHash[\"U093387342\"]\n",
    "train_true_pairs = pairs[:100000]\n",
    "train_false_pairs = f_pairs[:100000]\n",
    "valid_true_pairs = pairs[100000:]\n",
    "valid_false_pairs = f_pairs[100000:]"
   ]
  },
  {
   "cell_type": "code",
   "execution_count": 4,
   "metadata": {},
   "outputs": [
    {
     "name": "stdout",
     "output_type": "stream",
     "text": [
      "18793\n",
      "21321\n"
     ]
    }
   ],
   "source": [
    "print len(userList)\n",
    "print len(businessList)"
   ]
  },
  {
   "cell_type": "code",
   "execution_count": 35,
   "metadata": {},
   "outputs": [
    {
     "name": "stdout",
     "output_type": "stream",
     "text": [
      "0\n",
      "1000\n",
      "2000\n",
      "3000\n",
      "4000\n",
      "5000\n",
      "6000\n",
      "7000\n",
      "8000\n",
      "9000\n",
      "10000\n",
      "11000\n",
      "12000\n",
      "13000\n",
      "14000\n",
      "15000\n",
      "16000\n",
      "17000\n",
      "18000\n",
      "0\n",
      "1000\n",
      "2000\n",
      "3000\n",
      "4000\n",
      "5000\n",
      "6000\n",
      "7000\n",
      "8000\n",
      "9000\n",
      "10000\n",
      "11000\n",
      "12000\n",
      "13000\n",
      "14000\n",
      "15000\n",
      "16000\n",
      "17000\n",
      "18000\n",
      "19000\n",
      "20000\n",
      "21000\n"
     ]
    }
   ],
   "source": [
    "import numpy as np\n",
    "n_user = 6000#len(userList)\n",
    "n_business = 6000#len(businessList)\n",
    "UBArr = np.empty([len(userList),n_business])\n",
    "BUArr = np.empty([len(businessList),n_user])\n",
    "\n",
    "for i in range(len(userList)):\n",
    "    if i%1000 == 0:\n",
    "        print i\n",
    "    user = userList[i]\n",
    "    for j in range(n_business):\n",
    "        business = businessList[j]        \n",
    "        if business in userHash[user]:\n",
    "            UBArr[i][j] = 1\n",
    "        else:\n",
    "            UBArr[i][j] = 0\n",
    "            \n",
    "for i in range(len(businessList)):\n",
    "    if i%1000 == 0:\n",
    "        print i\n",
    "    business = businessList[i]\n",
    "    for j in range(n_user):\n",
    "        user = userList[j]        \n",
    "        if user in businessHash[business]:\n",
    "            BUArr[i][j] = 1\n",
    "        else:\n",
    "            BUArr[i][j] = 0"
   ]
  },
  {
   "cell_type": "code",
   "execution_count": 38,
   "metadata": {},
   "outputs": [],
   "source": [
    "from sklearn.decomposition import PCA\n",
    "\n",
    "userFac = PCA(n_components = 200)\n",
    "businessFac = PCA(n_components = 200)"
   ]
  },
  {
   "cell_type": "code",
   "execution_count": 39,
   "metadata": {},
   "outputs": [
    {
     "data": {
      "text/plain": [
       "PCA(copy=True, iterated_power='auto', n_components=500, random_state=None,\n",
       "  svd_solver='auto', tol=0.0, whiten=False)"
      ]
     },
     "execution_count": 39,
     "metadata": {},
     "output_type": "execute_result"
    }
   ],
   "source": [
    "userFac.fit(UBArr)"
   ]
  },
  {
   "cell_type": "code",
   "execution_count": 40,
   "metadata": {},
   "outputs": [
    {
     "data": {
      "text/plain": [
       "PCA(copy=True, iterated_power='auto', n_components=500, random_state=None,\n",
       "  svd_solver='auto', tol=0.0, whiten=False)"
      ]
     },
     "execution_count": 40,
     "metadata": {},
     "output_type": "execute_result"
    }
   ],
   "source": [
    "businessFac.fit(BUArr)"
   ]
  },
  {
   "cell_type": "code",
   "execution_count": 41,
   "metadata": {},
   "outputs": [],
   "source": [
    "lfu = userFac.transform(UBArr)\n",
    "lfb = businessFac.transform(BUArr)"
   ]
  },
  {
   "cell_type": "code",
   "execution_count": 42,
   "metadata": {},
   "outputs": [
    {
     "name": "stdout",
     "output_type": "stream",
     "text": [
      "{'rating': 5.0, 'reviewHash': 'R471510664', 'businessID': 'B408037852', 'unixReviewTime': 1364143460, 'reviewText': u\"This is where i go to shop for gifts from my mom. She loves this stuff. Cna't get enough. I like that you can customize the items. Store is well alid out and shoppable.\", 'userID': 'U093387342', 'reviewTime': u'Mar 24, 2013', 'categories': [u\"Women's Clothing Store\", u'Fashion Accessories Store', u'Shoe Store']}\n",
      "[ -6.61698866e-02   8.15300015e-02  -2.27832412e-02  -1.70265651e-02\n",
      "  -1.04132455e-01   8.89245828e-02   3.91501323e-02  -1.16904748e-01\n",
      "   4.02887300e-02  -1.55623418e-02   1.09357400e-02   1.62554772e-01\n",
      "  -3.83522329e-02  -5.98752061e-03  -1.69697865e-02  -8.30643114e-02\n",
      "  -1.86481173e-01  -1.03544336e-01   1.35905128e-02  -2.94708197e-02\n",
      "  -2.05777521e-02  -8.11593323e-04   1.48013035e-02  -1.72954648e-01\n",
      "  -1.10165095e-01   4.02819698e-01   2.41599298e-01   1.60541500e-01\n",
      "   1.67263960e-01   1.26879179e-01   1.75777626e-01   3.64068414e-01\n",
      "   2.36123617e-02  -3.81893638e-02  -7.62869281e-02  -3.47319930e-02\n",
      "  -1.32629413e-01   2.47965036e-02  -2.81536986e-02  -1.18764558e-01\n",
      "   1.08319809e-01  -8.78443882e-02   5.14859594e-02  -4.18214800e-02\n",
      "  -2.38797879e-02  -1.97951498e-01  -1.17913879e-01   6.69111781e-02\n",
      "  -1.58071250e-01  -2.41731400e-01   2.97030403e-02   6.32761652e-03\n",
      "   2.68907028e-02   1.01683726e-01  -1.16023326e-01   3.55351144e-03\n",
      "   9.11362177e-02  -7.53866799e-02   3.39148556e-02  -3.68297504e-02\n",
      "  -2.12686996e-02   2.08170207e-02  -4.85109633e-02  -7.03081691e-03\n",
      "  -1.11717246e-02   3.81493914e-02  -6.63305846e-02   1.31821075e-01\n",
      "  -7.01528491e-02  -1.09993058e-01   9.03184405e-02   3.17773130e-02\n",
      "   1.84217317e-02  -4.51802979e-02   1.88658026e-02   8.94203175e-03\n",
      "   1.79438051e-02  -2.02852561e-02   7.08770362e-02   6.79344161e-03\n",
      "   2.25943268e-02   2.86498701e-02  -3.74913488e-02   7.87206491e-02\n",
      "   2.60040608e-02   5.66298539e-03  -5.79716328e-04  -6.94188662e-02\n",
      "   1.19567612e-02   6.45753343e-03  -3.31775066e-03   6.72359427e-03\n",
      "   1.57376900e-02  -2.73035134e-02   4.35475986e-02  -3.37468918e-02\n",
      "  -7.56820444e-03   6.94013202e-04  -7.55894031e-02   3.93653573e-02\n",
      "  -5.55506573e-03   3.86684892e-02   5.24830770e-02   1.24867323e-01\n",
      "   7.45861804e-02   2.64818901e-02  -3.26614638e-02  -1.02796076e-01\n",
      "  -4.39575276e-02   3.47031020e-02   1.55488964e-02  -7.44718268e-03\n",
      "  -3.56435209e-02  -1.03135732e-02   3.46976401e-02   2.67361013e-02\n",
      "   5.81135801e-03  -5.93839400e-03   4.94733352e-02  -2.92080581e-02\n",
      "  -3.45889164e-02   6.93461418e-03   5.01986672e-02   8.19622121e-03\n",
      "   1.89655876e-02  -2.95954935e-02  -3.77680973e-02   3.89620581e-02\n",
      "   1.14355381e-02  -6.31272869e-02  -3.97792982e-02   2.32775914e-03\n",
      "   2.59949218e-02   5.50263969e-03  -1.00262713e-01  -5.09503066e-02\n",
      "   1.51235370e-01   6.66575466e-02   1.11373192e-01  -4.13705161e-03\n",
      "   4.93572943e-02  -2.42618899e-02   2.47808301e-02  -1.35152848e-02\n",
      "  -4.68802723e-02   3.84070831e-02   4.65347596e-03   5.74475205e-02\n",
      "  -9.41994987e-02  -6.80418269e-03   4.38612036e-02  -3.00292054e-02\n",
      "   1.70149668e-02  -8.18856452e-03   2.99283720e-02   2.82274834e-02\n",
      "   3.80852544e-02  -1.79353722e-02  -2.88465690e-02   2.48584599e-02\n",
      "  -2.71986286e-02   1.74881886e-02  -1.67514444e-02  -4.61198066e-02\n",
      "  -5.28466832e-02  -5.45551556e-02   1.95248357e-04   1.19779714e-02\n",
      "   3.46791319e-02  -2.82728329e-02   4.07468686e-02  -4.42074900e-02\n",
      "   2.54559322e-02  -7.97875168e-02   4.93338469e-02   4.79988446e-02\n",
      "   2.63440673e-02  -1.08438877e-03   6.72700525e-02   6.17451997e-03\n",
      "   5.67168001e-02   5.35143743e-02   1.97118229e-02   5.33410385e-02\n",
      "   3.42005683e-03  -2.90502719e-02  -3.55010607e-02   1.87293725e-02\n",
      "  -1.46951258e-02   2.41418413e-02   3.90993553e-02   2.95347104e-03\n",
      "  -4.01530652e-02  -1.34722641e-02   3.10909827e-02   7.94725636e-03\n",
      "   3.40639940e-04  -2.90882553e-02   1.70021824e-02  -4.78374362e-02\n",
      "   1.18717829e-02   2.38803605e-02  -8.82330742e-04   3.52040339e-02\n",
      "  -6.71026018e-02   5.61282929e-02   1.59442532e-02   2.26722490e-02\n",
      "   1.97872971e-02   3.62401771e-03  -2.56743222e-02  -2.29642512e-02\n",
      "  -8.16242920e-03  -5.80857937e-02   3.49924823e-02  -2.35879341e-02\n",
      "  -3.75127685e-02  -2.76811701e-02  -3.50143161e-02   1.32412912e-02\n",
      "   1.10682386e-02  -2.32069410e-02  -6.81860818e-02  -3.50707807e-02\n",
      "   4.34928170e-02   2.96149055e-02  -7.10379333e-03   6.03264342e-02\n",
      "   2.45312928e-02   7.69427665e-03  -1.06345944e-02  -6.14420277e-02\n",
      "  -4.52646492e-02  -2.15026529e-02   1.20479307e-02   1.03746268e-02\n",
      "  -5.97419609e-03   4.84779837e-02  -6.67222393e-03   3.79087149e-02\n",
      "   1.62390980e-02  -2.76257057e-03  -1.61172309e-02  -6.24201191e-02\n",
      "   4.01344222e-02  -9.74434326e-03   2.22469923e-02   4.38955170e-02\n",
      "  -6.22360652e-03   5.31853347e-03   1.90970243e-02  -2.83838735e-02\n",
      "   1.21993723e-03  -2.26824752e-03   1.38409101e-03  -5.10039684e-03\n",
      "  -4.44304116e-03   5.10468723e-02  -2.88562464e-02   1.24979572e-02\n",
      "   3.45742725e-03  -2.78758656e-03   4.31858997e-02   1.75036858e-02\n",
      "   9.53321777e-03  -3.24492999e-03  -2.39175975e-02  -7.96734116e-03\n",
      "   8.43366044e-03   2.26391974e-02  -8.47989358e-03  -2.42524047e-02\n",
      "  -1.28600454e-02  -9.39792602e-03  -8.53122354e-03  -2.73360050e-02\n",
      "   2.73924938e-03  -1.68668603e-02  -2.01715115e-02  -2.70516665e-03\n",
      "  -2.26194380e-02  -3.13674881e-02  -1.66999682e-02  -6.46021656e-03\n",
      "   8.50060094e-03   4.11392268e-02   3.23287573e-02   2.17970728e-02\n",
      "   2.51490503e-02   8.80601782e-03   2.76567000e-02  -5.78161493e-03\n",
      "  -1.99562163e-02  -1.67372283e-02  -4.31189796e-02   2.97752786e-02\n",
      "   2.21860280e-02   2.49045497e-02   6.56790396e-03  -4.89379393e-03\n",
      "   3.36558161e-02   3.13342413e-02  -8.78080026e-03   3.32315742e-02\n",
      "  -1.75501749e-02  -2.73854469e-02   5.55322440e-02   1.44809053e-02\n",
      "  -1.63787575e-03  -3.08754193e-02  -1.25272837e-02  -2.85443362e-02\n",
      "  -1.66014139e-02  -2.16045414e-02  -2.60288036e-02   1.77098241e-03\n",
      "   7.65709722e-02  -2.34515662e-02   2.13331335e-02  -2.34577959e-02\n",
      "  -1.83398416e-02   5.26141991e-03  -1.16712151e-02   2.77523720e-02\n",
      "  -3.07949686e-02   2.25653920e-02   1.45369157e-02  -4.48108902e-02\n",
      "  -4.88371589e-03  -9.23206502e-03   1.24416415e-02  -4.68212604e-03\n",
      "  -1.47142813e-02   2.25794362e-02  -1.91277647e-02  -1.98182240e-02\n",
      "   5.96546519e-03   4.56421772e-02   2.62002328e-02  -1.21211617e-02\n",
      "  -2.96730447e-03  -1.01307898e-02  -2.30467721e-02  -1.45413279e-03\n",
      "   2.83931429e-02   6.16575345e-03   3.01841772e-02  -5.63378385e-02\n",
      "  -4.18947259e-02  -3.75312161e-03   4.65403411e-02   3.32921913e-02\n",
      "  -2.06599113e-02  -7.25661333e-03  -3.75243667e-02  -1.80925516e-03\n",
      "  -7.63679965e-03   1.40183956e-02  -1.32608766e-02  -6.26776540e-02\n",
      "  -1.38332639e-02  -2.88298292e-03   7.70604198e-03  -1.46370539e-02\n",
      "   1.44373285e-02   1.92325460e-02  -3.42676966e-02   5.01168627e-02\n",
      "   6.05404076e-02  -4.25303327e-02  -1.49874184e-02  -2.25442994e-03\n",
      "  -1.33754881e-02   3.73805454e-02   3.46276631e-02   1.15824164e-02\n",
      "   8.53154438e-03  -2.80038342e-02  -9.54949559e-03  -5.35737106e-03\n",
      "  -3.97288135e-03   4.29948025e-03  -3.62580194e-04  -3.63415351e-04\n",
      "  -1.39136287e-03   1.19683146e-02   1.80863566e-02  -2.40694321e-02\n",
      "   3.70976741e-02  -3.08607383e-02  -3.90541047e-02  -7.49474957e-03\n",
      "  -1.41229677e-02   1.64919617e-02   1.92371984e-02  -8.52189834e-03\n",
      "  -1.94707766e-02   2.25002560e-02   5.55283052e-03  -1.51465896e-02\n",
      "   6.14889595e-03   1.15115542e-02  -2.48510680e-02  -2.45999329e-02\n",
      "   1.52993125e-02  -4.61941756e-03  -3.54646959e-02  -1.01616610e-03\n",
      "  -4.08619878e-02  -4.58080195e-02  -2.60814245e-02   2.42019130e-02\n",
      "   2.74563830e-02  -2.69560684e-02  -2.42869335e-02   1.19478455e-02\n",
      "  -3.26085776e-02  -4.12200004e-02  -3.66670936e-02  -9.20446726e-03\n",
      "  -5.82671595e-02   1.86997622e-02   1.00701109e-01  -2.51319250e-02\n",
      "   3.37979435e-02  -4.42922576e-02  -2.98683826e-03  -5.48117480e-03\n",
      "  -6.44114127e-02   1.44645395e-02   7.85877461e-03  -2.79131715e-02\n",
      "   1.07896670e-02  -4.98114633e-02  -8.45622696e-03   6.63892387e-02\n",
      "  -2.68711150e-02   2.23470350e-02  -4.06472058e-02  -5.07191101e-03\n",
      "   2.34820832e-03   2.29622275e-02   1.50542585e-02   5.03415210e-02\n",
      "   2.55940476e-02   2.04179777e-02   1.82488826e-02  -5.80619136e-02\n",
      "  -2.71040848e-02  -7.35191278e-02  -1.72326699e-02   4.56559544e-03\n",
      "   2.86730875e-02   5.31440207e-02   3.30152481e-02  -4.75156911e-03\n",
      "   3.93591740e-02   1.47042926e-02  -4.57407213e-02  -4.82807469e-03\n",
      "  -7.19954334e-03  -4.93418521e-03  -6.86000101e-02   2.53326156e-02\n",
      "   3.67475925e-02  -2.78362483e-02   8.69992329e-03   1.90449921e-02\n",
      "   6.10112490e-02   2.03017398e-02   6.75891255e-02   8.62278019e-02\n",
      "  -4.17338701e-02   5.00300276e-02  -2.60383433e-02   3.65110248e-02\n",
      "  -2.20149521e-02  -3.77069673e-02  -6.05845338e-02  -3.00595297e-03\n",
      "  -7.63842320e-03   1.30780602e-02   4.19637887e-02   3.49460747e-02\n",
      "  -8.10014247e-03  -5.95881155e-03   6.96744490e-02   1.38967040e-03\n",
      "   7.93793548e-02  -2.07042359e-02  -5.29418277e-02   3.50547864e-02\n",
      "  -1.20488715e-02  -3.42393737e-02  -1.55853091e-02  -4.92505512e-03\n",
      "   4.42191354e-02  -1.23274378e-02  -2.39059346e-02   7.46936969e-03]\n"
     ]
    }
   ],
   "source": [
    "for k, v in zip(userList,lfu):\n",
    "    userHash[k]['lf'] = v\n",
    "for k, v in zip(businessList,lfb):\n",
    "    businessHash[k]['lf'] = v\n",
    "    \n",
    "print reviews[0]\n",
    "print businessHash['B408037852']['lf']\n",
    "\n",
    "default_user = userFac.transform([[0] * n_business])[0]\n",
    "\n",
    "default_business = userFac.transform([[0] * n_user])[0]"
   ]
  },
  {
   "cell_type": "code",
   "execution_count": 47,
   "metadata": {},
   "outputs": [],
   "source": [
    "def getFeats(pair):\n",
    "    user, business = pair\n",
    "    if user in userHash:\n",
    "        userF = userHash[user]['lf']\n",
    "    else:\n",
    "        userF = default_user\n",
    "    if business in businessHash:\n",
    "        businessF = businessHash[business]['lf']\n",
    "    else:\n",
    "        businessF = default_business\n",
    "    return userF + businessF"
   ]
  },
  {
   "cell_type": "code",
   "execution_count": 48,
   "metadata": {
    "collapsed": true
   },
   "outputs": [],
   "source": [
    "X = [getFeats(p) for p in train_true_pairs +valid_true_pairs + valid_false_pairs+ train_false_pairs]\n",
    "y = [1] * 200000 + [0] * 200000"
   ]
  },
  {
   "cell_type": "code",
   "execution_count": 49,
   "metadata": {},
   "outputs": [
    {
     "name": "stdout",
     "output_type": "stream",
     "text": [
      "Iteration 1, loss = 0.55243393\n",
      "Validation score: 0.762700\n",
      "Iteration 2, loss = 0.45242387\n",
      "Validation score: 0.801975\n",
      "Iteration 3, loss = 0.40396831\n",
      "Validation score: 0.816500\n",
      "Iteration 4, loss = 0.37517602\n",
      "Validation score: 0.829825\n",
      "Iteration 5, loss = 0.35428593\n",
      "Validation score: 0.837775\n",
      "Iteration 6, loss = 0.33808496\n",
      "Validation score: 0.840925\n",
      "Iteration 7, loss = 0.32528015\n",
      "Validation score: 0.844675\n",
      "Iteration 8, loss = 0.31539901\n",
      "Validation score: 0.847500\n",
      "Iteration 9, loss = 0.30550236\n",
      "Validation score: 0.848675\n",
      "Iteration 10, loss = 0.29824050\n",
      "Validation score: 0.851450\n",
      "Iteration 11, loss = 0.29141485\n",
      "Validation score: 0.849950\n",
      "Iteration 12, loss = 0.28532392\n",
      "Validation score: 0.852300\n",
      "Iteration 13, loss = 0.28023146\n",
      "Validation score: 0.853050\n",
      "Iteration 14, loss = 0.27511489\n",
      "Validation score: 0.853175\n",
      "Iteration 15, loss = 0.27119505\n",
      "Validation score: 0.853600\n",
      "Iteration 16, loss = 0.26696771\n",
      "Validation score: 0.853500\n",
      "Iteration 17, loss = 0.26332694\n",
      "Validation score: 0.853550\n",
      "Iteration 18, loss = 0.26044337\n",
      "Validation score: 0.854925\n",
      "Iteration 19, loss = 0.25676069\n",
      "Validation score: 0.853850\n",
      "Iteration 20, loss = 0.25407945\n",
      "Validation score: 0.854650\n",
      "Iteration 21, loss = 0.25152603\n",
      "Validation score: 0.855875\n",
      "Iteration 22, loss = 0.24860383\n",
      "Validation score: 0.854425\n",
      "Iteration 23, loss = 0.24629859\n",
      "Validation score: 0.857525\n",
      "Iteration 24, loss = 0.24458703\n",
      "Validation score: 0.855325\n",
      "Iteration 25, loss = 0.24257563\n",
      "Validation score: 0.859500\n",
      "Iteration 26, loss = 0.23981931\n",
      "Validation score: 0.856000\n",
      "Iteration 27, loss = 0.23801918\n",
      "Validation score: 0.856675\n",
      "Iteration 28, loss = 0.23596341\n",
      "Validation score: 0.856525\n",
      "Validation score did not improve more than tol=0.000100 for two consecutive epochs. Stopping.\n"
     ]
    },
    {
     "data": {
      "text/plain": [
       "MLPClassifier(activation='relu', alpha=0.0001, batch_size='auto', beta_1=0.9,\n",
       "       beta_2=0.999, early_stopping=True, epsilon=1e-08,\n",
       "       hidden_layer_sizes=(100,), learning_rate='constant',\n",
       "       learning_rate_init=0.001, max_iter=200, momentum=0.9,\n",
       "       nesterovs_momentum=True, power_t=0.5, random_state=None,\n",
       "       shuffle=True, solver='adam', tol=0.0001, validation_fraction=0.1,\n",
       "       verbose=True, warm_start=False)"
      ]
     },
     "execution_count": 49,
     "metadata": {},
     "output_type": "execute_result"
    }
   ],
   "source": [
    "from sklearn.neural_network import MLPClassifier\n",
    "classifier = MLPClassifier(early_stopping = True, verbose = True)\n",
    "classifier.fit(X,y)"
   ]
  },
  {
   "cell_type": "code",
   "execution_count": null,
   "metadata": {},
   "outputs": [],
   "source": [
    "def predict(pair):\n",
    "    feat = [getFeats(pair)]\n",
    "    return (classifier.predict(feat) == 1)"
   ]
  },
  {
   "cell_type": "code",
   "execution_count": 50,
   "metadata": {
    "collapsed": true
   },
   "outputs": [],
   "source": [
    "predictions = open(\"predictions_Visit.txt\", 'w')\n",
    "for l in open(\"pairs_Visit.txt\"):\n",
    "    if l.startswith(\"userID\"):\n",
    "        #header\n",
    "        predictions.write(l)\n",
    "        continue\n",
    "    u,i = l.strip().split('-')\n",
    "    if predict((u,i)):\n",
    "        predictions.write(u + '-' + i + \",1\\n\")\n",
    "    else:\n",
    "        predictions.write(u + '-' + i + \",0\\n\")\n",
    "\n",
    "predictions.close()"
   ]
  },
  {
   "cell_type": "code",
   "execution_count": 51,
   "metadata": {},
   "outputs": [
    {
     "name": "stdout",
     "output_type": "stream",
     "text": [
      "wuwuwu\n"
     ]
    }
   ],
   "source": [
    "print \"wuwuwu\""
   ]
  },
  {
   "cell_type": "code",
   "execution_count": null,
   "metadata": {
    "collapsed": true
   },
   "outputs": [],
   "source": []
  }
 ],
 "metadata": {
  "kernelspec": {
   "display_name": "Python 2",
   "language": "python",
   "name": "python2"
  },
  "language_info": {
   "codemirror_mode": {
    "name": "ipython",
    "version": 2
   },
   "file_extension": ".py",
   "mimetype": "text/x-python",
   "name": "python",
   "nbconvert_exporter": "python",
   "pygments_lexer": "ipython2",
   "version": "2.7.13"
  }
 },
 "nbformat": 4,
 "nbformat_minor": 2
}
